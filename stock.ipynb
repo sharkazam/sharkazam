{
 "cells": [
  {
   "cell_type": "code",
   "execution_count": 1,
   "metadata": {},
   "outputs": [],
   "source": [
    "import pandas_datareader as web\n",
    "import pandas as pd\n",
    "from yahoo_fin import stock_info as si \n",
    "import datetime as dt\n"
   ]
  },
  {
   "cell_type": "code",
   "execution_count": 2,
   "metadata": {},
   "outputs": [],
   "source": [
    "tickers = si.tickers_nifty50()"
   ]
  },
  {
   "cell_type": "code",
   "execution_count": 3,
   "metadata": {},
   "outputs": [],
   "source": [
    "start= dt.datetime.now()-dt.timedelta(days=365)\n",
    "end=dt.datetime.now()"
   ]
  },
  {
   "cell_type": "code",
   "execution_count": 4,
   "metadata": {},
   "outputs": [],
   "source": [
    "nifty50_df=web.DataReader('^NSEI','yahoo',start,end)\n",
    "nifty50_df['Pct Change']=nifty50_df['Adj Close'].pct_change()"
   ]
  },
  {
   "cell_type": "code",
   "execution_count": 5,
   "metadata": {},
   "outputs": [],
   "source": [
    "nifty50_return=(nifty50_df['Pct Change']+1).cumprod()[-1]"
   ]
  },
  {
   "cell_type": "code",
   "execution_count": 12,
   "metadata": {},
   "outputs": [
    {
     "name": "stdout",
     "output_type": "stream",
     "text": [
      "{'MM.NS'}\n",
      "-1 for  APOLLOHOSP.NS\n",
      "-1 for  BAJAJ-AUTO.NS\n",
      "-1 for  BAJAJFINSV.NS\n",
      "-1 for  BAJFINANCE.NS\n",
      "-1 for  BHARTIARTL.NS\n",
      "-1 for  BRITANNIA.NS\n",
      "-1 for  CIPLA.NS\n",
      "-1 for  COALINDIA.NS\n",
      "-1 for  HDFCLIFE.NS\n",
      "-1 for  HEROMOTOCO.NS\n",
      "-1 for  HINDALCO.NS\n",
      "-1 for  ICICIBANK.NS\n",
      "-1 for  INDUSINDBK.NS\n",
      "-1 for  ITC.NS\n",
      "-1 for  KOTAKBANK.NS\n",
      "-1 for  LT.NS\n",
      "-1 for  MARUTI.NS\n",
      "[Errno 2] No such file or directory: 'stock_data/MM.NS.csv' for  MM.NS\n",
      "-1 for  NESTLEIND.NS\n",
      "-1 for  NTPC.NS\n",
      "-1 for  ONGC.NS\n",
      "-1 for  RELIANCE.NS\n",
      "-1 for  SHREECEM.NS\n",
      "-1 for  TATACONSUM.NS\n",
      "-1 for  TATASTEEL.NS\n",
      "-1 for  TCS.NS\n",
      "-1 for  TECHM.NS\n",
      "-1 for  TITAN.NS\n",
      "-1 for  ULTRACEMCO.NS\n",
      "-1 for  WIPRO.NS\n",
      "Empty DataFrame\n",
      "Columns: [Ticker, Latest_Price, Score, PE_Ratio, PEG_Ratio, SMA_150, SMA_200, 52_Week_Low, 52_Week_High]\n",
      "Index: []\n"
     ]
    }
   ],
   "source": [
    "return_list=[]\n",
    "final_df=pd.DataFrame(columns=['Ticker','Latest_Price','Score','PE_Ratio','PEG_Ratio','SMA_150','SMA_200','52_Week_Low','52_Week_High',])\n",
    "for ticker in tickers:\n",
    "    try: \n",
    "        df=web.DataReader(ticker,'yahoo',start,end)\n",
    "        df.to_csv(f'stock_data/{ticker}.csv')\n",
    "        df['Pct Change']=df['Adj Close'].pct_change()\n",
    "        stock_return=(df['Pct Change']+1).cumprod()[-1]\n",
    "        returns_compared=round((stock_return/nifty50_return),2)\n",
    "        return_list.append(returns_compared)\n",
    "    except:\n",
    "        print({ticker})\n",
    "\n",
    "#best_performers=pd.DataFrame(list(zip(tickers,return_list)), columns=['Ticker','Returns Compared'])\n",
    "#best_performers['Score'] = best_performers['Returns Compared'].rank(pct=True)*100\n",
    "#best_performers=best_performers[best_performers['Score']>=best_performers['Score'].quantile(0.7)]\n",
    "\n",
    "for ticker in tickers:\n",
    "    try:\n",
    "        df=pd.read_csv(f'stock_data/{ticker}.csv')\n",
    "        moving_averages=[150,200]\n",
    "        for ma in moving_averages:\n",
    "            df['SMA_'+str(ma)]=round(df['Adj Close'].rolling(window=ma).mean(),2)\n",
    "        latest_price=df['Adj Close'][-1]\n",
    "        pe_ratio=float(si.get_quote_table(ticker)['PE Ratio(TTM)'])\n",
    "        peg_ratio=float(si.get_stats_valuation(ticker)[1][4])\n",
    "        moving_averages_150=df['SMA_150'][-1]\n",
    "        moving_averages_200=df['SMA_200'][-1]\n",
    "        low_52week=round(min(df['Low'][-(52*5):]),2)\n",
    "        high_52week=round(max(df['High'][-(52*5):]),2)\n",
    "        score=round(best_performers[best_performers['Ticker']==ticker]['Score'].tolist()[0])\n",
    "        condition_1=latest_price>moving_averages_150>moving_averages_200\n",
    "        condition_2=latest_price>=(1.3*low_52week)\n",
    "        condition_3=latest_price>=(0.7*high_52week)\n",
    "        condition_4=pe_ratio<40\n",
    "        condition_5=peg_ratio<2\n",
    "        if condition_1 and condition_2:\n",
    "            final_df=final_df.append({'Ticker':ticker,\n",
    "            'Latest Price':latest_price,\n",
    "            'Score':score,\n",
    "            'PE_Ratio':pe_ratio,\n",
    "            'PEG_Ratio':peg_ratio,\n",
    "            'SMA_150':moving_averages_150,\n",
    "            'SMA_200':moving_averages_200,\n",
    "            '52_Week_Low':low_52week,\n",
    "            '52_Week_High':high_52week},ignore_index=True)\n",
    "    \n",
    "    except Exception as e:\n",
    "        print(f\"{e} for  {ticker}\")\n",
    "\n",
    "final_df.sort_values(by='Score',ascending=False)\n",
    "pd.set_option('display.max_columns', 10)\n",
    "print(final_df)\n",
    "final_df.to_csv('final.csv')\n"
   ]
  },
  {
   "cell_type": "code",
   "execution_count": null,
   "metadata": {},
   "outputs": [],
   "source": []
  }
 ],
 "metadata": {
  "interpreter": {
   "hash": "45d9db7c24b415bde417b5c2e93ac5d9fde19ae3b9a19cdb32c5dd49bda7e275"
  },
  "kernelspec": {
   "display_name": "Python 3.9.7 ('base')",
   "language": "python",
   "name": "python3"
  },
  "language_info": {
   "codemirror_mode": {
    "name": "ipython",
    "version": 3
   },
   "file_extension": ".py",
   "mimetype": "text/x-python",
   "name": "python",
   "nbconvert_exporter": "python",
   "pygments_lexer": "ipython3",
   "version": "3.9.7"
  },
  "orig_nbformat": 4
 },
 "nbformat": 4,
 "nbformat_minor": 2
}
